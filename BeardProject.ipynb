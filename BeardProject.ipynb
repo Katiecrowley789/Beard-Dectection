{
 "cells": [
  {
   "cell_type": "code",
   "execution_count": null,
   "id": "279ab25f",
   "metadata": {},
   "outputs": [],
   "source": [
    "#imports\n",
    "import cv2 as cv\n",
    "import numpy as np\n",
    "from matplotlib import pyplot as plt\n"
   ]
  },
  {
   "cell_type": "code",
   "execution_count": null,
   "id": "b0882c80",
   "metadata": {},
   "outputs": [],
   "source": [
    "beard_cascade = cv.CascadeClassifier('cascade3.xml')\n",
    "\n",
    "face_cascade = cv.CascadeClassifier('haarcascade_frontalface_default.xml')\n",
    "\n",
    "#setting up camera to capture\n",
    "cap = cv.VideoCapture(0)\n",
    "\n",
    "while 1:\n",
    "    ret, img = cap.read()\n",
    "\n",
    "    beard_img = img.copy()\n",
    "\n",
    "    gray = cv.cvtColor(beard_img, cv.COLOR_BGR2GRAY)\n",
    "    faces = face_cascade.detectMultiScale(gray, 1.3, 5)\n",
    "\n",
    "    for (x,y,w,h) in faces:\n",
    "        cv.rectangle(beard_img,(x,y),(x+w,y+h),(255,0,0),2)\n",
    "        img_gray = gray[y-75:y+h+75, x-75:x+w+75]\n",
    "        img_color = img[y-75:y+h+75, x-75:x+w+75]\n",
    "\n",
    "        beard_rect = beard_cascade.detectMultiScale(img_gray, 1.3, 5)\n",
    "        for (bx, by, bw, bh) in beard_rect:\n",
    "            cv.rectangle(img_color, (bx, by), (bx + bw, by + bh), (0, 0, 0), 3)\n",
    "            cv.putText(img_color, 'Beard', (bx, by - 10), cv.FONT_HERSHEY_SIMPLEX, 0.9, (0, 0, 255), 2)\n",
    "\n",
    "    cv.imshow('face', beard_img)\n",
    "    cv.imshow('beard', img)\n",
    "    k = cv.waitKey(30) & 0xff\n",
    "    if k == 27:\n",
    "        break\n",
    "    #beardimg = cv.cvtColor(beardframe, cv.COLOR_BGR2RGB)\n",
    "\n",
    "cap.release()\n",
    "cv.destroyAllWindows()\n",
    "\n",
    "#convert camera frame from bgr to rgb\n",
    "frame_rgb = cv.cvtColor(img, cv.COLOR_BGR2RGB)\n",
    "# frame_rgb = cv.cvtColor(beard_img, cv.COLOR_GRAY2RGB)\n",
    "# show camera frame\n",
    "plt.imshow(frame_rgb)\n",
    "plt.title('Test frame')\n",
    "plt.show()"
   ]
  },
  {
   "cell_type": "code",
   "execution_count": null,
   "id": "aff11350",
   "metadata": {},
   "outputs": [],
   "source": []
  }
 ],
 "metadata": {
  "kernelspec": {
   "display_name": "Python 3 (ipykernel)",
   "language": "python",
   "name": "python3"
  },
  "language_info": {
   "codemirror_mode": {
    "name": "ipython",
    "version": 3
   },
   "file_extension": ".py",
   "mimetype": "text/x-python",
   "name": "python",
   "nbconvert_exporter": "python",
   "pygments_lexer": "ipython3",
   "version": "3.8.5"
  }
 },
 "nbformat": 4,
 "nbformat_minor": 5
}
